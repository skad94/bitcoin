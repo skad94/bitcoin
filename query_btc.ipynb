{
 "cells": [
  {
   "cell_type": "code",
   "execution_count": 81,
   "metadata": {
    "collapsed": false
   },
   "outputs": [],
   "source": [
    "import json\n",
    "import pandas as pd\n",
    "import numpy as np"
   ]
  },
  {
   "cell_type": "code",
   "execution_count": 82,
   "metadata": {
    "collapsed": true
   },
   "outputs": [],
   "source": [
    "try:\n",
    "    # For Python 3.0 and later\n",
    "    from urllib.request import urlopen\n",
    "except ImportError:\n",
    "    # Fall back to Python 2's urllib2\n",
    "    from urllib2 import urlopen"
   ]
  },
  {
   "cell_type": "code",
   "execution_count": 151,
   "metadata": {
    "collapsed": false
   },
   "outputs": [
    {
     "data": {
      "text/html": [
       "<div>\n",
       "<table border=\"1\" class=\"dataframe\">\n",
       "  <thead>\n",
       "    <tr style=\"text-align: right;\">\n",
       "      <th></th>\n",
       "      <th>ask</th>\n",
       "      <th>avg</th>\n",
       "      <th>bid</th>\n",
       "      <th>close</th>\n",
       "      <th>currency</th>\n",
       "      <th>currency_volume</th>\n",
       "      <th>high</th>\n",
       "      <th>latest_trade</th>\n",
       "      <th>low</th>\n",
       "      <th>symbol</th>\n",
       "      <th>volume</th>\n",
       "    </tr>\n",
       "  </thead>\n",
       "  <tbody>\n",
       "    <tr>\n",
       "      <th>0</th>\n",
       "      <td>6280100.00</td>\n",
       "      <td>6259159.035425</td>\n",
       "      <td>6.280000e+06</td>\n",
       "      <td>6280100.00</td>\n",
       "      <td>IDR</td>\n",
       "      <td>6.429376e+09</td>\n",
       "      <td>6338900.00</td>\n",
       "      <td>1450972047</td>\n",
       "      <td>6175000.00</td>\n",
       "      <td>btcoidIDR</td>\n",
       "      <td>1027.194925</td>\n",
       "    </tr>\n",
       "    <tr>\n",
       "      <th>1</th>\n",
       "      <td>226.57</td>\n",
       "      <td>490.174481</td>\n",
       "      <td>4.530453e+10</td>\n",
       "      <td>496.02</td>\n",
       "      <td>USD</td>\n",
       "      <td>8.444803e+05</td>\n",
       "      <td>3083.70</td>\n",
       "      <td>1450971872</td>\n",
       "      <td>338.98</td>\n",
       "      <td>localbtcUSD</td>\n",
       "      <td>1722.815800</td>\n",
       "    </tr>\n",
       "    <tr>\n",
       "      <th>6</th>\n",
       "      <td>455.62</td>\n",
       "      <td>450.393124</td>\n",
       "      <td>4.551100e+02</td>\n",
       "      <td>454.71</td>\n",
       "      <td>USD</td>\n",
       "      <td>1.242560e+06</td>\n",
       "      <td>459.00</td>\n",
       "      <td>1450971338</td>\n",
       "      <td>438.05</td>\n",
       "      <td>itbitUSD</td>\n",
       "      <td>2758.834000</td>\n",
       "    </tr>\n",
       "    <tr>\n",
       "      <th>7</th>\n",
       "      <td>643.01</td>\n",
       "      <td>636.314094</td>\n",
       "      <td>6.421100e+02</td>\n",
       "      <td>642.00</td>\n",
       "      <td>SGD</td>\n",
       "      <td>8.581675e+04</td>\n",
       "      <td>647.03</td>\n",
       "      <td>1450971923</td>\n",
       "      <td>619.20</td>\n",
       "      <td>itbitSGD</td>\n",
       "      <td>134.865400</td>\n",
       "    </tr>\n",
       "    <tr>\n",
       "      <th>8</th>\n",
       "      <td>414.88</td>\n",
       "      <td>406.049215</td>\n",
       "      <td>4.141700e+02</td>\n",
       "      <td>413.47</td>\n",
       "      <td>EUR</td>\n",
       "      <td>1.002146e+05</td>\n",
       "      <td>416.18</td>\n",
       "      <td>1450971376</td>\n",
       "      <td>401.18</td>\n",
       "      <td>itbitEUR</td>\n",
       "      <td>246.804100</td>\n",
       "    </tr>\n",
       "  </tbody>\n",
       "</table>\n",
       "</div>"
      ],
      "text/plain": [
       "          ask             avg           bid       close currency  \\\n",
       "0  6280100.00  6259159.035425  6.280000e+06  6280100.00      IDR   \n",
       "1      226.57      490.174481  4.530453e+10      496.02      USD   \n",
       "6      455.62      450.393124  4.551100e+02      454.71      USD   \n",
       "7      643.01      636.314094  6.421100e+02      642.00      SGD   \n",
       "8      414.88      406.049215  4.141700e+02      413.47      EUR   \n",
       "\n",
       "   currency_volume        high  latest_trade         low       symbol  \\\n",
       "0     6.429376e+09  6338900.00    1450972047  6175000.00    btcoidIDR   \n",
       "1     8.444803e+05     3083.70    1450971872      338.98  localbtcUSD   \n",
       "6     1.242560e+06      459.00    1450971338      438.05     itbitUSD   \n",
       "7     8.581675e+04      647.03    1450971923      619.20     itbitSGD   \n",
       "8     1.002146e+05      416.18    1450971376      401.18     itbitEUR   \n",
       "\n",
       "        volume  \n",
       "0  1027.194925  \n",
       "1  1722.815800  \n",
       "6  2758.834000  \n",
       "7   134.865400  \n",
       "8   246.804100  "
      ]
     },
     "execution_count": 151,
     "metadata": {},
     "output_type": "execute_result"
    }
   ],
   "source": [
    "url = 'http://api.bitcoincharts.com/v1/markets.json'\n",
    "response = urlopen(url)\n",
    "data = json.loads(response.read())\n",
    "df = pd.DataFrame(data)\n",
    "# delete rows where volume == 0.\n",
    "df = df[df.volume != 0]\n",
    "df.head()"
   ]
  },
  {
   "cell_type": "markdown",
   "metadata": {},
   "source": [
    "## Currency"
   ]
  },
  {
   "cell_type": "code",
   "execution_count": 150,
   "metadata": {
    "collapsed": false
   },
   "outputs": [
    {
     "data": {
      "image/png": "[encoded data removed]",
      "text/plain": [
       "<matplotlib.figure.Figure at 0x114fa3250>"
      ]
     },
     "metadata": {},
     "output_type": "display_data"
    }
   ],
   "source": [
    "grouped = df.groupby('currency')\n",
    "curr_vol = grouped.sum()['volume']\n",
    "labels = curr_vol.index.values\n",
    "sizes = curr_vol.values / sum(curr_vol.values) \n",
    "labels = labels[sizes > 0.01]\n",
    "sizes = sizes[sizes > 0.01]\n",
    "import matplotlib.pyplot as plt\n",
    "%matplotlib inline\n",
    "# Plot\n",
    "plt.pie(sizes, labels=labels,\n",
    "        autopct='%1.1f%%', shadow=True, startangle=140)\n",
    "plt.axis('equal')\n",
    "plt.show()"
   ]
  },
  {
   "cell_type": "markdown",
   "metadata": {},
   "source": [
    "## Volume"
   ]
  },
  {
   "cell_type": "code",
   "execution_count": 86,
   "metadata": {
    "collapsed": false
   },
   "outputs": [
    {
     "data": {
      "image/png": "[encoded data removed]",
      "text/plain": [
       "<matplotlib.figure.Figure at 0x116c9fed0>"
      ]
     },
     "metadata": {},
     "output_type": "display_data"
    }
   ],
   "source": [
    "labels = df['symbol']\n",
    "sizes = df['volume'] / sum(df['volume'])\n",
    "labels = labels[sizes > 0.01]\n",
    "sizes = sizes[sizes > 0.01]\n",
    "import matplotlib.pyplot as plt\n",
    "%matplotlib inline\n",
    "# Plot\n",
    "plt.pie(sizes, labels=labels,\n",
    "        autopct='%1.1f%%', shadow=True, startangle=140)\n",
    "plt.axis('equal')\n",
    "plt.show()"
   ]
  },
  {
   "cell_type": "code",
   "execution_count": null,
   "metadata": {
    "collapsed": true
   },
   "outputs": [],
   "source": []
  }
 ],
 "metadata": {
  "kernelspec": {
   "display_name": "Python 2",
   "language": "python",
   "name": "python2"
  },
  "language_info": {
   "codemirror_mode": {
    "name": "ipython",
    "version": 2
   },
   "file_extension": ".py",
   "mimetype": "text/x-python",
   "name": "python",
   "nbconvert_exporter": "python",
   "pygments_lexer": "ipython2",
   "version": "2.7.11"
  }
 },
 "nbformat": 4,
 "nbformat_minor": 0
}
