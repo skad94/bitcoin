{
 "cells": [
  {
   "cell_type": "code",
   "execution_count": 1,
   "metadata": {
    "collapsed": true
   },
   "outputs": [],
   "source": [
    "import numpy as np\n",
    "import pandas as pd"
   ]
  },
  {
   "cell_type": "code",
   "execution_count": 44,
   "metadata": {
    "collapsed": false
   },
   "outputs": [],
   "source": [
    "%matplotlib inline\n",
    "import matplotlib.pyplot as plt"
   ]
  },
  {
   "cell_type": "markdown",
   "metadata": {},
   "source": [
    "# Extract of the dataset"
   ]
  },
  {
   "cell_type": "code",
   "execution_count": 3,
   "metadata": {
    "collapsed": false
   },
   "outputs": [
    {
     "data": {
      "text/html": [
       "<div>\n",
       "<table border=\"1\" class=\"dataframe\">\n",
       "  <thead>\n",
       "    <tr style=\"text-align: right;\">\n",
       "      <th></th>\n",
       "      <th>Trade_Id</th>\n",
       "      <th>Date</th>\n",
       "      <th>User_Id</th>\n",
       "      <th>Japan</th>\n",
       "      <th>Type</th>\n",
       "      <th>Currency</th>\n",
       "      <th>Bitcoins</th>\n",
       "      <th>Money</th>\n",
       "      <th>Money_Rate</th>\n",
       "      <th>Money_JPY</th>\n",
       "      <th>Money_Fee</th>\n",
       "      <th>Money_Fee_Rate</th>\n",
       "      <th>Money_Fee_JPY</th>\n",
       "      <th>Bitcoin_Fee</th>\n",
       "      <th>Bitcoin_Fee_JPY</th>\n",
       "    </tr>\n",
       "  </thead>\n",
       "  <tbody>\n",
       "    <tr>\n",
       "      <th>0</th>\n",
       "      <td>1309478459355721</td>\n",
       "      <td>2011-07-01 00:00:59</td>\n",
       "      <td>61717</td>\n",
       "      <td>NJP</td>\n",
       "      <td>buy</td>\n",
       "      <td>USD</td>\n",
       "      <td>0.100000</td>\n",
       "      <td>1.61010</td>\n",
       "      <td>80.433128</td>\n",
       "      <td>129.505380</td>\n",
       "      <td>0</td>\n",
       "      <td>80.433128</td>\n",
       "      <td>0</td>\n",
       "      <td>0.0003</td>\n",
       "      <td>0.389795</td>\n",
       "    </tr>\n",
       "    <tr>\n",
       "      <th>1</th>\n",
       "      <td>1309478459355721</td>\n",
       "      <td>2011-07-01 00:00:59</td>\n",
       "      <td>4125</td>\n",
       "      <td>NJP</td>\n",
       "      <td>sell</td>\n",
       "      <td>USD</td>\n",
       "      <td>0.100000</td>\n",
       "      <td>1.61010</td>\n",
       "      <td>80.433128</td>\n",
       "      <td>129.505380</td>\n",
       "      <td>0</td>\n",
       "      <td>80.433128</td>\n",
       "      <td>0</td>\n",
       "      <td>0.0000</td>\n",
       "      <td>0.000000</td>\n",
       "    </tr>\n",
       "    <tr>\n",
       "      <th>2</th>\n",
       "      <td>1309478466574560</td>\n",
       "      <td>2011-07-01 00:01:06</td>\n",
       "      <td>57157</td>\n",
       "      <td>NJP</td>\n",
       "      <td>buy</td>\n",
       "      <td>USD</td>\n",
       "      <td>1.000000</td>\n",
       "      <td>16.10098</td>\n",
       "      <td>80.433128</td>\n",
       "      <td>1295.052186</td>\n",
       "      <td>0</td>\n",
       "      <td>80.433128</td>\n",
       "      <td>0</td>\n",
       "      <td>0.0000</td>\n",
       "      <td>0.000000</td>\n",
       "    </tr>\n",
       "    <tr>\n",
       "      <th>3</th>\n",
       "      <td>1309478466574560</td>\n",
       "      <td>2011-07-01 00:01:06</td>\n",
       "      <td>4125</td>\n",
       "      <td>NJP</td>\n",
       "      <td>sell</td>\n",
       "      <td>USD</td>\n",
       "      <td>1.000000</td>\n",
       "      <td>16.10098</td>\n",
       "      <td>80.433128</td>\n",
       "      <td>1295.052186</td>\n",
       "      <td>0</td>\n",
       "      <td>80.433128</td>\n",
       "      <td>0</td>\n",
       "      <td>0.0000</td>\n",
       "      <td>0.000000</td>\n",
       "    </tr>\n",
       "    <tr>\n",
       "      <th>4</th>\n",
       "      <td>1309478468980270</td>\n",
       "      <td>2011-07-01 00:01:08</td>\n",
       "      <td>337</td>\n",
       "      <td>NJP</td>\n",
       "      <td>buy</td>\n",
       "      <td>USD</td>\n",
       "      <td>1.705052</td>\n",
       "      <td>27.45300</td>\n",
       "      <td>80.433128</td>\n",
       "      <td>2208.130665</td>\n",
       "      <td>0</td>\n",
       "      <td>80.433128</td>\n",
       "      <td>0</td>\n",
       "      <td>0.0000</td>\n",
       "      <td>0.000000</td>\n",
       "    </tr>\n",
       "  </tbody>\n",
       "</table>\n",
       "</div>"
      ],
      "text/plain": [
       "           Trade_Id                 Date  User_Id Japan  Type Currency  \\\n",
       "0  1309478459355721  2011-07-01 00:00:59    61717   NJP   buy      USD   \n",
       "1  1309478459355721  2011-07-01 00:00:59     4125   NJP  sell      USD   \n",
       "2  1309478466574560  2011-07-01 00:01:06    57157   NJP   buy      USD   \n",
       "3  1309478466574560  2011-07-01 00:01:06     4125   NJP  sell      USD   \n",
       "4  1309478468980270  2011-07-01 00:01:08      337   NJP   buy      USD   \n",
       "\n",
       "   Bitcoins     Money  Money_Rate    Money_JPY  Money_Fee  Money_Fee_Rate  \\\n",
       "0  0.100000   1.61010   80.433128   129.505380          0       80.433128   \n",
       "1  0.100000   1.61010   80.433128   129.505380          0       80.433128   \n",
       "2  1.000000  16.10098   80.433128  1295.052186          0       80.433128   \n",
       "3  1.000000  16.10098   80.433128  1295.052186          0       80.433128   \n",
       "4  1.705052  27.45300   80.433128  2208.130665          0       80.433128   \n",
       "\n",
       "   Money_Fee_JPY  Bitcoin_Fee  Bitcoin_Fee_JPY  \n",
       "0              0       0.0003         0.389795  \n",
       "1              0       0.0000         0.000000  \n",
       "2              0       0.0000         0.000000  \n",
       "3              0       0.0000         0.000000  \n",
       "4              0       0.0000         0.000000  "
      ]
     },
     "execution_count": 3,
     "metadata": {},
     "output_type": "execute_result"
    }
   ],
   "source": [
    "data = pd.read_csv('trades/2011-07.csv')\n",
    "data.head()"
   ]
  },
  {
   "cell_type": "code",
   "execution_count": 27,
   "metadata": {
    "collapsed": false
   },
   "outputs": [],
   "source": [
    "#data[data.Bitcoin_Fee_JPY == 0].head()"
   ]
  },
  {
   "cell_type": "markdown",
   "metadata": {},
   "source": [
    "# Relation between price and volume"
   ]
  },
  {
   "cell_type": "code",
   "execution_count": 17,
   "metadata": {
    "collapsed": true
   },
   "outputs": [],
   "source": [
    "price_usd = pd.DataFrame(data[\"Money\"]/data[\"Bitcoins\"], columns=['Price_USD'])\n",
    "data = data.join(price_usd)"
   ]
  },
  {
   "cell_type": "code",
   "execution_count": 46,
   "metadata": {
    "collapsed": false
   },
   "outputs": [
    {
     "data": {
      "text/plain": [
       "<matplotlib.text.Text at 0x21e6fba7ef0>"
      ]
     },
     "execution_count": 46,
     "metadata": {},
     "output_type": "execute_result"
    },
    {
     "name": "stderr",
     "output_type": "stream",
     "text": [
      "C:\\Users\\stéphane\\Anaconda3\\lib\\site-packages\\matplotlib\\collections.py:590: FutureWarning: elementwise comparison failed; returning scalar instead, but in the future will perform elementwise comparison\n",
      "  if self._edgecolors == str('face'):\n"
     ]
    },
    {
     "data": {
      "image/png": "[encoded data removed]",
      "text/plain": [
       "<matplotlib.figure.Figure at 0x21e6fc274e0>"
      ]
     },
     "metadata": {},
     "output_type": "display_data"
    }
   ],
   "source": [
    "from pylab import rcParams\n",
    "rcParams['figure.figsize'] = (10.0, 8.0)\n",
    "\n",
    "plt.scatter(np.log10(data.Bitcoins),np.log10(data.Price_USD))\n",
    "plt.xlabel(\"log10 Volume\")\n",
    "plt.ylabel(\"log10 Price (USD)\")\n",
    "#plt.yscale('log')\n",
    "#plt.xscale('log')"
   ]
  },
  {
   "cell_type": "markdown",
   "metadata": {},
   "source": [
    "# A la recherche du plus malin"
   ]
  },
  {
   "cell_type": "code",
   "execution_count": 19,
   "metadata": {
    "collapsed": false
   },
   "outputs": [
    {
     "data": {
      "text/html": [
       "<div>\n",
       "<table border=\"1\" class=\"dataframe\">\n",
       "  <thead>\n",
       "    <tr style=\"text-align: right;\">\n",
       "      <th></th>\n",
       "      <th>Trade_Id</th>\n",
       "      <th>Date</th>\n",
       "      <th>User_Id</th>\n",
       "      <th>Japan</th>\n",
       "      <th>Type</th>\n",
       "      <th>Currency</th>\n",
       "      <th>Bitcoins</th>\n",
       "      <th>Money</th>\n",
       "      <th>Money_Rate</th>\n",
       "      <th>Money_JPY</th>\n",
       "      <th>Money_Fee</th>\n",
       "      <th>Money_Fee_Rate</th>\n",
       "      <th>Money_Fee_JPY</th>\n",
       "      <th>Bitcoin_Fee</th>\n",
       "      <th>Bitcoin_Fee_JPY</th>\n",
       "      <th>Price_USD</th>\n",
       "    </tr>\n",
       "  </thead>\n",
       "  <tbody>\n",
       "    <tr>\n",
       "      <th>52416</th>\n",
       "      <td>1309894966308831</td>\n",
       "      <td>2011-07-05 19:42:46</td>\n",
       "      <td>1</td>\n",
       "      <td>NJP</td>\n",
       "      <td>buy</td>\n",
       "      <td>USD</td>\n",
       "      <td>0.000941</td>\n",
       "      <td>22.68774</td>\n",
       "      <td>80.765517</td>\n",
       "      <td>1832.387056</td>\n",
       "      <td>0</td>\n",
       "      <td>80.765517</td>\n",
       "      <td>0</td>\n",
       "      <td>0</td>\n",
       "      <td>0</td>\n",
       "      <td>24110.244421</td>\n",
       "    </tr>\n",
       "    <tr>\n",
       "      <th>52417</th>\n",
       "      <td>1309894966308831</td>\n",
       "      <td>2011-07-05 19:42:46</td>\n",
       "      <td>42907</td>\n",
       "      <td>NJP</td>\n",
       "      <td>sell</td>\n",
       "      <td>USD</td>\n",
       "      <td>0.000941</td>\n",
       "      <td>22.68774</td>\n",
       "      <td>80.765517</td>\n",
       "      <td>1832.387056</td>\n",
       "      <td>0</td>\n",
       "      <td>80.765517</td>\n",
       "      <td>0</td>\n",
       "      <td>0</td>\n",
       "      <td>0</td>\n",
       "      <td>24110.244421</td>\n",
       "    </tr>\n",
       "    <tr>\n",
       "      <th>74950</th>\n",
       "      <td>1309974301821528</td>\n",
       "      <td>2011-07-06 17:45:01</td>\n",
       "      <td>43998</td>\n",
       "      <td>NJP</td>\n",
       "      <td>buy</td>\n",
       "      <td>USD</td>\n",
       "      <td>0.100000</td>\n",
       "      <td>802.50000</td>\n",
       "      <td>81.066316</td>\n",
       "      <td>65055.718830</td>\n",
       "      <td>0</td>\n",
       "      <td>81.066316</td>\n",
       "      <td>0</td>\n",
       "      <td>0</td>\n",
       "      <td>0</td>\n",
       "      <td>8025.000000</td>\n",
       "    </tr>\n",
       "    <tr>\n",
       "      <th>74951</th>\n",
       "      <td>1309974301821528</td>\n",
       "      <td>2011-07-06 17:45:01</td>\n",
       "      <td>35256</td>\n",
       "      <td>NJP</td>\n",
       "      <td>sell</td>\n",
       "      <td>USD</td>\n",
       "      <td>0.100000</td>\n",
       "      <td>802.50000</td>\n",
       "      <td>81.066316</td>\n",
       "      <td>65055.718830</td>\n",
       "      <td>0</td>\n",
       "      <td>81.066316</td>\n",
       "      <td>0</td>\n",
       "      <td>0</td>\n",
       "      <td>0</td>\n",
       "      <td>8025.000000</td>\n",
       "    </tr>\n",
       "    <tr>\n",
       "      <th>82346</th>\n",
       "      <td>1309999207385807</td>\n",
       "      <td>2011-07-07 00:40:07</td>\n",
       "      <td>16383</td>\n",
       "      <td>NJP</td>\n",
       "      <td>buy</td>\n",
       "      <td>USD</td>\n",
       "      <td>0.010000</td>\n",
       "      <td>133.90191</td>\n",
       "      <td>81.037854</td>\n",
       "      <td>10851.123493</td>\n",
       "      <td>0</td>\n",
       "      <td>81.037854</td>\n",
       "      <td>0</td>\n",
       "      <td>0</td>\n",
       "      <td>0</td>\n",
       "      <td>13390.191000</td>\n",
       "    </tr>\n",
       "  </tbody>\n",
       "</table>\n",
       "</div>"
      ],
      "text/plain": [
       "               Trade_Id                 Date  User_Id Japan  Type Currency  \\\n",
       "52416  1309894966308831  2011-07-05 19:42:46        1   NJP   buy      USD   \n",
       "52417  1309894966308831  2011-07-05 19:42:46    42907   NJP  sell      USD   \n",
       "74950  1309974301821528  2011-07-06 17:45:01    43998   NJP   buy      USD   \n",
       "74951  1309974301821528  2011-07-06 17:45:01    35256   NJP  sell      USD   \n",
       "82346  1309999207385807  2011-07-07 00:40:07    16383   NJP   buy      USD   \n",
       "\n",
       "       Bitcoins      Money  Money_Rate     Money_JPY  Money_Fee  \\\n",
       "52416  0.000941   22.68774   80.765517   1832.387056          0   \n",
       "52417  0.000941   22.68774   80.765517   1832.387056          0   \n",
       "74950  0.100000  802.50000   81.066316  65055.718830          0   \n",
       "74951  0.100000  802.50000   81.066316  65055.718830          0   \n",
       "82346  0.010000  133.90191   81.037854  10851.123493          0   \n",
       "\n",
       "       Money_Fee_Rate  Money_Fee_JPY  Bitcoin_Fee  Bitcoin_Fee_JPY  \\\n",
       "52416       80.765517              0            0                0   \n",
       "52417       80.765517              0            0                0   \n",
       "74950       81.066316              0            0                0   \n",
       "74951       81.066316              0            0                0   \n",
       "82346       81.037854              0            0                0   \n",
       "\n",
       "          Price_USD  \n",
       "52416  24110.244421  \n",
       "52417  24110.244421  \n",
       "74950   8025.000000  \n",
       "74951   8025.000000  \n",
       "82346  13390.191000  "
      ]
     },
     "execution_count": 19,
     "metadata": {},
     "output_type": "execute_result"
    }
   ],
   "source": [
    "data[data[\"Price_USD\"] > 5000].head()"
   ]
  },
  {
   "cell_type": "code",
   "execution_count": 20,
   "metadata": {
    "collapsed": false
   },
   "outputs": [
    {
     "data": {
      "text/html": [
       "<div>\n",
       "<table border=\"1\" class=\"dataframe\">\n",
       "  <thead>\n",
       "    <tr style=\"text-align: right;\">\n",
       "      <th></th>\n",
       "      <th>Trade_Id</th>\n",
       "      <th>Date</th>\n",
       "      <th>User_Id</th>\n",
       "      <th>Japan</th>\n",
       "      <th>Type</th>\n",
       "      <th>Currency</th>\n",
       "      <th>Bitcoins</th>\n",
       "      <th>Money</th>\n",
       "      <th>Money_Rate</th>\n",
       "      <th>Money_JPY</th>\n",
       "      <th>Money_Fee</th>\n",
       "      <th>Money_Fee_Rate</th>\n",
       "      <th>Money_Fee_JPY</th>\n",
       "      <th>Bitcoin_Fee</th>\n",
       "      <th>Bitcoin_Fee_JPY</th>\n",
       "      <th>Price_USD</th>\n",
       "    </tr>\n",
       "  </thead>\n",
       "  <tbody>\n",
       "    <tr>\n",
       "      <th>392</th>\n",
       "      <td>1309479643125187</td>\n",
       "      <td>2011-07-01 00:20:43</td>\n",
       "      <td>26611</td>\n",
       "      <td>NJP</td>\n",
       "      <td>buy</td>\n",
       "      <td>USD</td>\n",
       "      <td>0.000060</td>\n",
       "      <td>0.00096</td>\n",
       "      <td>80.433128</td>\n",
       "      <td>0.077216</td>\n",
       "      <td>0</td>\n",
       "      <td>80.433128</td>\n",
       "      <td>0</td>\n",
       "      <td>0.000000e+00</td>\n",
       "      <td>0.000000</td>\n",
       "      <td>16.029387</td>\n",
       "    </tr>\n",
       "    <tr>\n",
       "      <th>393</th>\n",
       "      <td>1309479643125187</td>\n",
       "      <td>2011-07-01 00:20:43</td>\n",
       "      <td>4125</td>\n",
       "      <td>NJP</td>\n",
       "      <td>sell</td>\n",
       "      <td>USD</td>\n",
       "      <td>0.000060</td>\n",
       "      <td>0.00096</td>\n",
       "      <td>80.433128</td>\n",
       "      <td>0.077216</td>\n",
       "      <td>0</td>\n",
       "      <td>80.433128</td>\n",
       "      <td>0</td>\n",
       "      <td>0.000000e+00</td>\n",
       "      <td>0.000000</td>\n",
       "      <td>16.029387</td>\n",
       "    </tr>\n",
       "    <tr>\n",
       "      <th>1070</th>\n",
       "      <td>1309484817341541</td>\n",
       "      <td>2011-07-01 01:46:57</td>\n",
       "      <td>66207</td>\n",
       "      <td>NJP</td>\n",
       "      <td>buy</td>\n",
       "      <td>USD</td>\n",
       "      <td>0.000122</td>\n",
       "      <td>0.00200</td>\n",
       "      <td>80.433128</td>\n",
       "      <td>0.160866</td>\n",
       "      <td>0</td>\n",
       "      <td>80.433128</td>\n",
       "      <td>0</td>\n",
       "      <td>3.700000e-07</td>\n",
       "      <td>0.000481</td>\n",
       "      <td>16.400164</td>\n",
       "    </tr>\n",
       "    <tr>\n",
       "      <th>1071</th>\n",
       "      <td>1309484817341541</td>\n",
       "      <td>2011-07-01 01:46:57</td>\n",
       "      <td>4125</td>\n",
       "      <td>NJP</td>\n",
       "      <td>sell</td>\n",
       "      <td>USD</td>\n",
       "      <td>0.000122</td>\n",
       "      <td>0.00200</td>\n",
       "      <td>80.433128</td>\n",
       "      <td>0.160866</td>\n",
       "      <td>0</td>\n",
       "      <td>80.433128</td>\n",
       "      <td>0</td>\n",
       "      <td>0.000000e+00</td>\n",
       "      <td>0.000000</td>\n",
       "      <td>16.400164</td>\n",
       "    </tr>\n",
       "    <tr>\n",
       "      <th>1464</th>\n",
       "      <td>1309486957446593</td>\n",
       "      <td>2011-07-01 02:22:37</td>\n",
       "      <td>7761</td>\n",
       "      <td>NJP</td>\n",
       "      <td>buy</td>\n",
       "      <td>USD</td>\n",
       "      <td>0.000229</td>\n",
       "      <td>0.00377</td>\n",
       "      <td>80.433128</td>\n",
       "      <td>0.303233</td>\n",
       "      <td>0</td>\n",
       "      <td>80.433128</td>\n",
       "      <td>0</td>\n",
       "      <td>6.900000e-07</td>\n",
       "      <td>0.000897</td>\n",
       "      <td>16.474393</td>\n",
       "    </tr>\n",
       "  </tbody>\n",
       "</table>\n",
       "</div>"
      ],
      "text/plain": [
       "              Trade_Id                 Date  User_Id Japan  Type Currency  \\\n",
       "392   1309479643125187  2011-07-01 00:20:43    26611   NJP   buy      USD   \n",
       "393   1309479643125187  2011-07-01 00:20:43     4125   NJP  sell      USD   \n",
       "1070  1309484817341541  2011-07-01 01:46:57    66207   NJP   buy      USD   \n",
       "1071  1309484817341541  2011-07-01 01:46:57     4125   NJP  sell      USD   \n",
       "1464  1309486957446593  2011-07-01 02:22:37     7761   NJP   buy      USD   \n",
       "\n",
       "      Bitcoins    Money  Money_Rate  Money_JPY  Money_Fee  Money_Fee_Rate  \\\n",
       "392   0.000060  0.00096   80.433128   0.077216          0       80.433128   \n",
       "393   0.000060  0.00096   80.433128   0.077216          0       80.433128   \n",
       "1070  0.000122  0.00200   80.433128   0.160866          0       80.433128   \n",
       "1071  0.000122  0.00200   80.433128   0.160866          0       80.433128   \n",
       "1464  0.000229  0.00377   80.433128   0.303233          0       80.433128   \n",
       "\n",
       "      Money_Fee_JPY   Bitcoin_Fee  Bitcoin_Fee_JPY  Price_USD  \n",
       "392               0  0.000000e+00         0.000000  16.029387  \n",
       "393               0  0.000000e+00         0.000000  16.029387  \n",
       "1070              0  3.700000e-07         0.000481  16.400164  \n",
       "1071              0  0.000000e+00         0.000000  16.400164  \n",
       "1464              0  6.900000e-07         0.000897  16.474393  "
      ]
     },
     "execution_count": 20,
     "metadata": {},
     "output_type": "execute_result"
    }
   ],
   "source": [
    "data[data[\"Bitcoins\"] < 0.001].head()"
   ]
  },
  {
   "cell_type": "code",
   "execution_count": null,
   "metadata": {
    "collapsed": false
   },
   "outputs": [],
   "source": [
    "min_Trade_Id = min(data[\"Trade_Id\"]); \n",
    "max_Trade_Id = max(data[\"Trade_Id\"]);\n",
    "data[\"Trade_Id\"] = data[\"Trade_Id\"] - min_Trade_Id;\n",
    "data.head()"
   ]
  },
  {
   "cell_type": "code",
   "execution_count": 26,
   "metadata": {
    "collapsed": false
   },
   "outputs": [],
   "source": [
    "#data[data[\"User_Id\"] == 43998].head()\n",
    "#data[data[\"User_Id\"] == 1].head()"
   ]
  },
  {
   "cell_type": "code",
   "execution_count": 24,
   "metadata": {
    "collapsed": false
   },
   "outputs": [],
   "source": [
    "#etendu_trade_id = max_Trade_Id - min_Trade_Id\n",
    "#bins = np.linspace(min_Trade_Id, max_Trade_Id, etendu_trade_id)\n",
    "#bins = np.arange(min_Trade_Id,max_Trade_Id +1)\n",
    "#plt.plot([data[\"Bitcoins\"],data[\"Trade_Id\"]])"
   ]
  },
  {
   "cell_type": "code",
   "execution_count": null,
   "metadata": {
    "collapsed": false
   },
   "outputs": [],
   "source": [
    "merg = data[data.Type == 'buy'].groupby('User_Id')\n",
    "price_buy = merg.mean()['Price_USD']\n",
    "merg2 = data[data.Type == 'sell'].groupby('User_Id')\n",
    "price_sell = merg2.mean()['Price_USD']"
   ]
  },
  {
   "cell_type": "code",
   "execution_count": null,
   "metadata": {
    "collapsed": false
   },
   "outputs": [],
   "source": [
    "max_buy = max(price_buy)\n",
    "min_sell = min(price_sell)\n",
    "best_buyer = price_buy[price_buy == max_buy]\n",
    "best_seller = price_sell[price_sell == min_sell]"
   ]
  },
  {
   "cell_type": "code",
   "execution_count": null,
   "metadata": {
    "collapsed": false
   },
   "outputs": [],
   "source": [
    "print (best_buyer)\n",
    "print (best_seller)"
   ]
  },
  {
   "cell_type": "code",
   "execution_count": null,
   "metadata": {
    "collapsed": false
   },
   "outputs": [],
   "source": [
    "pri_buy[pri_buy == max_price]"
   ]
  },
  {
   "cell_type": "code",
   "execution_count": null,
   "metadata": {
    "collapsed": true
   },
   "outputs": [],
   "source": [
    "max_buy = max(maxprice_buy)"
   ]
  },
  {
   "cell_type": "code",
   "execution_count": null,
   "metadata": {
    "collapsed": false
   },
   "outputs": [],
   "source": [
    "X = data.values\n",
    "p = len(data.values)\n",
    "price_volumique = np.zeros(shape=(p,1))\n",
    "price_volumique\n",
    "#d = pd.DataFrame(price_volumique, columns = 'price_volumique)\n",
    "#price_volumique = np.ones(p)\n",
    "#data = pd.DataFrame(data[\"price_volumique\"][1], columns = ['price_volumique'])"
   ]
  },
  {
   "cell_type": "code",
   "execution_count": null,
   "metadata": {
    "collapsed": true
   },
   "outputs": [],
   "source": []
  }
 ],
 "metadata": {
  "kernelspec": {
   "display_name": "Python 3",
   "language": "python",
   "name": "python3"
  },
  "language_info": {
   "codemirror_mode": {
    "name": "ipython",
    "version": 3
   },
   "file_extension": ".py",
   "mimetype": "text/x-python",
   "name": "python",
   "nbconvert_exporter": "python",
   "pygments_lexer": "ipython3",
   "version": "3.5.1"
  }
 },
 "nbformat": 4,
 "nbformat_minor": 0
}
